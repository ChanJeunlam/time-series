{
 "cells": [
  {
   "cell_type": "markdown",
   "id": "bdf64b2a",
   "metadata": {},
   "source": [
    "The first thing we need to do is to set Jupyter Notebooks to work with Matlab.  We'll use this for Matlab assignments and homework.  \n",
    "\n",
    "To do this, please carefully follow  with the following minor modifications.\n",
    "\n",
    "Jupyter Notebooks offer a powerful and widely used platform for creating interactive scripts and journals.  [JupyterLab](https://jupyter.org) is the next-generation development environment for Jupyter Notebooks that includes, among other things, a tabbed interface for multiple notebooks. \n",
    "\n",
    "Here, we will set these up to work with Matlab.  While Matlab's Live Scripts offer a similar functionality, in my experience these can unfortunately be buggy and unstable.  It takes a little work to set up Jupyter Notebooks to work with Matlab, but the payoff is worth it.\n",
    "\n",
    "These instructions are taken from [here](https://am111.readthedocs.io/en/latest/jmatlab_install.html), with some minor modifications and updates.  These are written for a Mac or Linux operating systems; the Windows instructions should be the same apart from obvious changes for changing directory commands and pathname.  More details on the Window installation are given in the [original instructions](https://am111.readthedocs.io/en/latest/jmatlab_install.html).\n",
    "\n",
    "If don't already have it installed, you'll need to install either the [Anaconda](https://docs.anaconda.com/anaconda/install/) or [Miniconda](https://docs.conda.io/en/latest/miniconda.html) Python distributions.  Personally, I perfer the lean Miniconda distribution because it is a much faster install. Miniconda currently has versions for Python 2.7, 3.8, and 3.9. The version doesn't particulary matter, so I chose the Python 3.9 version.\n",
    "\n",
    "XX not true, don't need this next line, it's isntalled in the virtual enviroment level.  So, it doesn't matter which miniconda installer.  I used 3.9. XXOnce it's installed, we need to make sure a suitable version of Python is installed. Therefore after Anaconda or Miniconda is installed, you'll want to open a terminal and run\n",
    "\n",
    "conda install python=3.8.8\n",
    "\n",
    "XX have to istall this also within the enviroment.  \n",
    "\n",
    "\n",
    "\n",
    "\n",
    "Next, create a virtual environment, called jmatlab, that specifies a suitable version of Python to work with Matlab.  At the time of this writing, for the current release of Matlab, R2021a, the most recent compatible version of Python is 3.8.8.   Use\n",
    "\n",
    "conda create -vv -n jmatlab python=3.8.8 jupyter\n",
    "\n",
    "to create the environment.  If you're running a different version of Matlab, check [this list](https://www.mathworks.com/content/dam/mathworks/mathworks-dot-com/support/sysreq/files/python-compatibility.pdf) to find the compatible versions of Python.\n",
    "\n",
    "Now, activate the jmatlab environment \n",
    "\n",
    "conda activate jmatlab\n",
    "\n",
    "which puts you inside the jmatlab environment, as your shell cursor probably indicates.  All of the remaining commands should be executed inside this environment.  \n",
    "\n",
    "Install [Jupyter Lab](https://jupyter.org/install) using the command \n",
    "\n",
    "conda install -c conda-forge jupyterlab\n",
    "\n",
    "\n",
    "Next, install the Matlab kernel \n",
    "\n",
    "pip install matlab_kernel\n",
    "python -m matlab_kernel install\n",
    "\n",
    "Note that the first command corrects a typo in the [original instructions](https://am111.readthedocs.io/en/latest/jmatlab_install.html). To check that the kernel is installed correctly, use \n",
    "\n",
    "jupyter kernelspec list\n",
    "\n",
    "and you should see Matlab on the list of available kernels.\n",
    "\n",
    "There is one more step that needs to be done on the Matlab side.  Still inside the jmatlab environment, use\n",
    "\n",
    "cd /Applications/MATLAB_R2021a.app/extern/engines/python\n",
    "python setup.py install\n",
    "\n",
    "This will allow the Matlab engine to be called from within a Python session.\n",
    "\n",
    "Now, you're ready to launch Jupyter Lab Change to the directory you'd like to work in and type \n",
    "\n",
    "jupyter-lab\n",
    "\n",
    "Or, alternatively, to use Jupyter Notebook with Jupyter Lab, you can use\n",
    "\n",
    "jupyter notebook\n",
    "\n",
    "Next time you want to use Jupyter Lab you only first need to activate the jmatlab environment with conda activate jmatlab and then use jupyter-lab to launch it.\n"
   ]
  },
  {
   "cell_type": "code",
   "execution_count": null,
   "id": "a08434cf",
   "metadata": {},
   "outputs": [],
   "source": []
  }
 ],
 "metadata": {
  "kernelspec": {
   "display_name": "Matlab",
   "language": "matlab",
   "name": "matlab"
  },
  "language_info": {
   "codemirror_mode": "octave",
   "file_extension": ".m",
   "help_links": [
    {
     "text": "MetaKernel Magics",
     "url": "https://metakernel.readthedocs.io/en/latest/source/README.html"
    }
   ],
   "mimetype": "text/x-octave",
   "name": "matlab",
   "version": "0.16.11"
  }
 },
 "nbformat": 4,
 "nbformat_minor": 5
}
