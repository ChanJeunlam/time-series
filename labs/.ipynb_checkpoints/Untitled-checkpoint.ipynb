{
 "cells": [
  {
   "cell_type": "code",
   "execution_count": null,
   "id": "ece0458d-4e0b-498f-ad62-7c47d7c404a2",
   "metadata": {},
   "outputs": [],
   "source": [
    "def datenum_to_datetime_loop(datenum):\n",
    "#    \"\"\"\n",
    "#    Convert Matlab datenum into Python datetime.\n",
    "#    :param datenum: Date in datenum format\n",
    "#    :return:        Datetime object corresponding to datenum.\n",
    "#    \"\"\"\n",
    "    dt=np.empty(np.size(datenum))\n",
    "    print(dt)\n",
    "    for n in range(np.size(datenum)):\n",
    "        print(datenum[n])\n",
    "        dt[n]=datetime.date.fromordinal(int(datenum[n])) \\\n",
    "           + datetime.timedelta(days=datenum[n]) \\\n",
    "           - datetime.timedelta(days=366)\n",
    "    return dt\n",
    "    \n",
    "#this is not right, should use pandas datetime array\n",
    "#https://www.codegrepper.com/code-examples/python/how+to+create+date+array+in+pyton\n",
    "\n",
    "\n",
    "#function for converting date to year.fraction\n",
    "#from https://stackoverflow.com/questions/6451655/how-to-convert-python-datetime-dates-to-decimal-float-years\n",
    "#def year_fraction(date):\n",
    "#    start = datetime.date(date.year, 1, 1).toordinal()\n",
    "#    year_length = datetime.date(date.year+1, 1, 1).toordinal() - start\n",
    "#    return date.year + float(date.toordinal() - start) / year_length  \n",
    "\n",
    "#function for converting array of Matlab's datenum to year.fraction\n",
    "#building on https://stackoverflow.com/questions/6451655/how-to-convert-python-datetime-dates-to-decimal-float-years\n",
    "def year_fraction(num):\n",
    "    range(np.size(num))\n",
    "    yf=np.empty(np.size(num))\n",
    "    for n in range(np.size(num)):\n",
    "        date=datenum_to_datetime(num[n])\n",
    "        start = datetime.date(date.year, 1, 1).toordinal()\n",
    "        year_length = datetime.date(date.year+1, 1, 1).toordinal() - start        \n",
    "        yf[n] = date.year + float(date.toordinal() - start) / year_length\n",
    "    return yf\n",
    "\n",
    "#function for converting Matlab's datenum to datetime format\n",
    "def year_fraction2(num):\n",
    "    yf = []\n",
    "    for i in num:\n",
    "        yf.append(dt.datetime.fromordinal(int(i)) + dt.timedelta(days=i%1) - dt.timedelta(days = 366))\n",
    "    yf = np.array(yf)\n",
    "    return yf"
   ]
  }
 ],
 "metadata": {
  "kernelspec": {
   "display_name": "Matlab",
   "language": "matlab",
   "name": "matlab"
  },
  "language_info": {
   "codemirror_mode": "octave",
   "file_extension": ".m",
   "help_links": [
    {
     "text": "MetaKernel Magics",
     "url": "https://metakernel.readthedocs.io/en/latest/source/README.html"
    }
   ],
   "mimetype": "text/x-octave",
   "name": "matlab",
   "version": "0.16.11"
  }
 },
 "nbformat": 4,
 "nbformat_minor": 5
}
